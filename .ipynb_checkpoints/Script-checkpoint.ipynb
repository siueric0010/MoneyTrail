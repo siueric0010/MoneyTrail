{
 "cells": [
  {
   "cell_type": "code",
   "execution_count": null,
   "metadata": {},
   "outputs": [
    {
     "name": "stdout",
     "output_type": "stream",
     "text": [
      "Test\n",
      "\n",
      "Test\n",
      "\n",
      "Test\n",
      "\n",
      "Test\n",
      "\n",
      "Test\n",
      "\n",
      "Test\n",
      "\n",
      "Test\n",
      "\n",
      "Test\n",
      "\n",
      "Test\n",
      "\n",
      "Test\n",
      "\n",
      "Test\n",
      "\n",
      "Test\n",
      "\n"
     ]
    }
   ],
   "source": [
    "##############\n",
    "## Script listens to serial port and writes contents into a file\n",
    "##############\n",
    "## requires pySerial to be installed \n",
    "import serial  # sudo pip install pyserial should work\n",
    "import requests\n",
    "\n",
    "REST_IP = \"localhost:5001\"\n",
    "serial_port = 'COM3'\n",
    "baud_rate = 9600 #In arduino, Serial.begin(baud_rate)\n",
    "write_to_file_path = \"output.txt\"\n",
    "output_file = open(write_to_file_path, \"w+\")\n",
    "ser = serial.Serial(serial_port, baud_rate)\n",
    "while True:\n",
    "    line = ser.readline()\n",
    "    line = line.decode(\"utf-8\") #sr.readline returns a binary, convert to string\n",
    "    print(line)\n",
    "    output_file.write(line)\n",
    "    requests.get()\n",
    "    sleep(1000)\n",
    "    "
   ]
  },
  {
   "cell_type": "code",
   "execution_count": 1,
   "metadata": {},
   "outputs": [],
   "source": [
    "import requests"
   ]
  },
  {
   "cell_type": "code",
   "execution_count": null,
   "metadata": {},
   "outputs": [],
   "source": []
  }
 ],
 "metadata": {
  "kernelspec": {
   "display_name": "Python 3",
   "language": "python",
   "name": "python3"
  },
  "language_info": {
   "codemirror_mode": {
    "name": "ipython",
    "version": 3
   },
   "file_extension": ".py",
   "mimetype": "text/x-python",
   "name": "python",
   "nbconvert_exporter": "python",
   "pygments_lexer": "ipython3",
   "version": "3.7.4"
  }
 },
 "nbformat": 4,
 "nbformat_minor": 4
}
